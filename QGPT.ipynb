{
  "nbformat": 4,
  "nbformat_minor": 0,
  "metadata": {
    "colab": {
      "provenance": [],
      "gpuType": "T4",
      "authorship_tag": "ABX9TyM2TJdJijkQDs3sAVI50ANk",
      "include_colab_link": true
    },
    "kernelspec": {
      "name": "python3",
      "display_name": "Python 3"
    },
    "language_info": {
      "name": "python"
    },
    "accelerator": "GPU",
    "widgets": {
      "application/vnd.jupyter.widget-state+json": {
        "307ce54f91514a93a887e7a24a6f1045": {
          "model_module": "@jupyter-widgets/controls",
          "model_name": "HBoxModel",
          "model_module_version": "1.5.0",
          "state": {
            "_dom_classes": [],
            "_model_module": "@jupyter-widgets/controls",
            "_model_module_version": "1.5.0",
            "_model_name": "HBoxModel",
            "_view_count": null,
            "_view_module": "@jupyter-widgets/controls",
            "_view_module_version": "1.5.0",
            "_view_name": "HBoxView",
            "box_style": "",
            "children": [
              "IPY_MODEL_2dc89e0fb93240638d6954c07e2121e1",
              "IPY_MODEL_5038926bac40436eb48d099b3dbd5125",
              "IPY_MODEL_7172c022ca3e4cfc8528d3bf3dc0ae9a"
            ],
            "layout": "IPY_MODEL_d5ef620730cf488ea338716b2b82bb9d"
          }
        },
        "2dc89e0fb93240638d6954c07e2121e1": {
          "model_module": "@jupyter-widgets/controls",
          "model_name": "HTMLModel",
          "model_module_version": "1.5.0",
          "state": {
            "_dom_classes": [],
            "_model_module": "@jupyter-widgets/controls",
            "_model_module_version": "1.5.0",
            "_model_name": "HTMLModel",
            "_view_count": null,
            "_view_module": "@jupyter-widgets/controls",
            "_view_module_version": "1.5.0",
            "_view_name": "HTMLView",
            "description": "",
            "description_tooltip": null,
            "layout": "IPY_MODEL_7a6114647f10408ca238d82cbf4d242d",
            "placeholder": "​",
            "style": "IPY_MODEL_eb87aca996a24242b769ad3c5371e13e",
            "value": "README.md: 100%"
          }
        },
        "5038926bac40436eb48d099b3dbd5125": {
          "model_module": "@jupyter-widgets/controls",
          "model_name": "FloatProgressModel",
          "model_module_version": "1.5.0",
          "state": {
            "_dom_classes": [],
            "_model_module": "@jupyter-widgets/controls",
            "_model_module_version": "1.5.0",
            "_model_name": "FloatProgressModel",
            "_view_count": null,
            "_view_module": "@jupyter-widgets/controls",
            "_view_module_version": "1.5.0",
            "_view_name": "ProgressView",
            "bar_style": "success",
            "description": "",
            "description_tooltip": null,
            "layout": "IPY_MODEL_8f260ae6dec7408198516538e7acc91e",
            "max": 373,
            "min": 0,
            "orientation": "horizontal",
            "style": "IPY_MODEL_6bf1020f774c438eb2a3c098621af4a1",
            "value": 373
          }
        },
        "7172c022ca3e4cfc8528d3bf3dc0ae9a": {
          "model_module": "@jupyter-widgets/controls",
          "model_name": "HTMLModel",
          "model_module_version": "1.5.0",
          "state": {
            "_dom_classes": [],
            "_model_module": "@jupyter-widgets/controls",
            "_model_module_version": "1.5.0",
            "_model_name": "HTMLModel",
            "_view_count": null,
            "_view_module": "@jupyter-widgets/controls",
            "_view_module_version": "1.5.0",
            "_view_name": "HTMLView",
            "description": "",
            "description_tooltip": null,
            "layout": "IPY_MODEL_2f74d4937fc14086915dd3ef75c95824",
            "placeholder": "​",
            "style": "IPY_MODEL_31723a0711a448c3b06b92e84fd3c0fa",
            "value": " 373/373 [00:00&lt;00:00, 8.14kB/s]"
          }
        },
        "d5ef620730cf488ea338716b2b82bb9d": {
          "model_module": "@jupyter-widgets/base",
          "model_name": "LayoutModel",
          "model_module_version": "1.2.0",
          "state": {
            "_model_module": "@jupyter-widgets/base",
            "_model_module_version": "1.2.0",
            "_model_name": "LayoutModel",
            "_view_count": null,
            "_view_module": "@jupyter-widgets/base",
            "_view_module_version": "1.2.0",
            "_view_name": "LayoutView",
            "align_content": null,
            "align_items": null,
            "align_self": null,
            "border": null,
            "bottom": null,
            "display": null,
            "flex": null,
            "flex_flow": null,
            "grid_area": null,
            "grid_auto_columns": null,
            "grid_auto_flow": null,
            "grid_auto_rows": null,
            "grid_column": null,
            "grid_gap": null,
            "grid_row": null,
            "grid_template_areas": null,
            "grid_template_columns": null,
            "grid_template_rows": null,
            "height": null,
            "justify_content": null,
            "justify_items": null,
            "left": null,
            "margin": null,
            "max_height": null,
            "max_width": null,
            "min_height": null,
            "min_width": null,
            "object_fit": null,
            "object_position": null,
            "order": null,
            "overflow": null,
            "overflow_x": null,
            "overflow_y": null,
            "padding": null,
            "right": null,
            "top": null,
            "visibility": null,
            "width": null
          }
        },
        "7a6114647f10408ca238d82cbf4d242d": {
          "model_module": "@jupyter-widgets/base",
          "model_name": "LayoutModel",
          "model_module_version": "1.2.0",
          "state": {
            "_model_module": "@jupyter-widgets/base",
            "_model_module_version": "1.2.0",
            "_model_name": "LayoutModel",
            "_view_count": null,
            "_view_module": "@jupyter-widgets/base",
            "_view_module_version": "1.2.0",
            "_view_name": "LayoutView",
            "align_content": null,
            "align_items": null,
            "align_self": null,
            "border": null,
            "bottom": null,
            "display": null,
            "flex": null,
            "flex_flow": null,
            "grid_area": null,
            "grid_auto_columns": null,
            "grid_auto_flow": null,
            "grid_auto_rows": null,
            "grid_column": null,
            "grid_gap": null,
            "grid_row": null,
            "grid_template_areas": null,
            "grid_template_columns": null,
            "grid_template_rows": null,
            "height": null,
            "justify_content": null,
            "justify_items": null,
            "left": null,
            "margin": null,
            "max_height": null,
            "max_width": null,
            "min_height": null,
            "min_width": null,
            "object_fit": null,
            "object_position": null,
            "order": null,
            "overflow": null,
            "overflow_x": null,
            "overflow_y": null,
            "padding": null,
            "right": null,
            "top": null,
            "visibility": null,
            "width": null
          }
        },
        "eb87aca996a24242b769ad3c5371e13e": {
          "model_module": "@jupyter-widgets/controls",
          "model_name": "DescriptionStyleModel",
          "model_module_version": "1.5.0",
          "state": {
            "_model_module": "@jupyter-widgets/controls",
            "_model_module_version": "1.5.0",
            "_model_name": "DescriptionStyleModel",
            "_view_count": null,
            "_view_module": "@jupyter-widgets/base",
            "_view_module_version": "1.2.0",
            "_view_name": "StyleView",
            "description_width": ""
          }
        },
        "8f260ae6dec7408198516538e7acc91e": {
          "model_module": "@jupyter-widgets/base",
          "model_name": "LayoutModel",
          "model_module_version": "1.2.0",
          "state": {
            "_model_module": "@jupyter-widgets/base",
            "_model_module_version": "1.2.0",
            "_model_name": "LayoutModel",
            "_view_count": null,
            "_view_module": "@jupyter-widgets/base",
            "_view_module_version": "1.2.0",
            "_view_name": "LayoutView",
            "align_content": null,
            "align_items": null,
            "align_self": null,
            "border": null,
            "bottom": null,
            "display": null,
            "flex": null,
            "flex_flow": null,
            "grid_area": null,
            "grid_auto_columns": null,
            "grid_auto_flow": null,
            "grid_auto_rows": null,
            "grid_column": null,
            "grid_gap": null,
            "grid_row": null,
            "grid_template_areas": null,
            "grid_template_columns": null,
            "grid_template_rows": null,
            "height": null,
            "justify_content": null,
            "justify_items": null,
            "left": null,
            "margin": null,
            "max_height": null,
            "max_width": null,
            "min_height": null,
            "min_width": null,
            "object_fit": null,
            "object_position": null,
            "order": null,
            "overflow": null,
            "overflow_x": null,
            "overflow_y": null,
            "padding": null,
            "right": null,
            "top": null,
            "visibility": null,
            "width": null
          }
        },
        "6bf1020f774c438eb2a3c098621af4a1": {
          "model_module": "@jupyter-widgets/controls",
          "model_name": "ProgressStyleModel",
          "model_module_version": "1.5.0",
          "state": {
            "_model_module": "@jupyter-widgets/controls",
            "_model_module_version": "1.5.0",
            "_model_name": "ProgressStyleModel",
            "_view_count": null,
            "_view_module": "@jupyter-widgets/base",
            "_view_module_version": "1.2.0",
            "_view_name": "StyleView",
            "bar_color": null,
            "description_width": ""
          }
        },
        "2f74d4937fc14086915dd3ef75c95824": {
          "model_module": "@jupyter-widgets/base",
          "model_name": "LayoutModel",
          "model_module_version": "1.2.0",
          "state": {
            "_model_module": "@jupyter-widgets/base",
            "_model_module_version": "1.2.0",
            "_model_name": "LayoutModel",
            "_view_count": null,
            "_view_module": "@jupyter-widgets/base",
            "_view_module_version": "1.2.0",
            "_view_name": "LayoutView",
            "align_content": null,
            "align_items": null,
            "align_self": null,
            "border": null,
            "bottom": null,
            "display": null,
            "flex": null,
            "flex_flow": null,
            "grid_area": null,
            "grid_auto_columns": null,
            "grid_auto_flow": null,
            "grid_auto_rows": null,
            "grid_column": null,
            "grid_gap": null,
            "grid_row": null,
            "grid_template_areas": null,
            "grid_template_columns": null,
            "grid_template_rows": null,
            "height": null,
            "justify_content": null,
            "justify_items": null,
            "left": null,
            "margin": null,
            "max_height": null,
            "max_width": null,
            "min_height": null,
            "min_width": null,
            "object_fit": null,
            "object_position": null,
            "order": null,
            "overflow": null,
            "overflow_x": null,
            "overflow_y": null,
            "padding": null,
            "right": null,
            "top": null,
            "visibility": null,
            "width": null
          }
        },
        "31723a0711a448c3b06b92e84fd3c0fa": {
          "model_module": "@jupyter-widgets/controls",
          "model_name": "DescriptionStyleModel",
          "model_module_version": "1.5.0",
          "state": {
            "_model_module": "@jupyter-widgets/controls",
            "_model_module_version": "1.5.0",
            "_model_name": "DescriptionStyleModel",
            "_view_count": null,
            "_view_module": "@jupyter-widgets/base",
            "_view_module_version": "1.2.0",
            "_view_name": "StyleView",
            "description_width": ""
          }
        },
        "3aceea12ae9c45dcb1fce9d181e2dc23": {
          "model_module": "@jupyter-widgets/controls",
          "model_name": "HBoxModel",
          "model_module_version": "1.5.0",
          "state": {
            "_dom_classes": [],
            "_model_module": "@jupyter-widgets/controls",
            "_model_module_version": "1.5.0",
            "_model_name": "HBoxModel",
            "_view_count": null,
            "_view_module": "@jupyter-widgets/controls",
            "_view_module_version": "1.5.0",
            "_view_name": "HBoxView",
            "box_style": "",
            "children": [
              "IPY_MODEL_9c94c325066841afb3170216007ee4ff",
              "IPY_MODEL_bf1d194c915c40ef912c041bc4805fc1",
              "IPY_MODEL_ac1394fa1343469799af3c3397337c77"
            ],
            "layout": "IPY_MODEL_4b93553cbcc24d61be75b622571226ed"
          }
        },
        "9c94c325066841afb3170216007ee4ff": {
          "model_module": "@jupyter-widgets/controls",
          "model_name": "HTMLModel",
          "model_module_version": "1.5.0",
          "state": {
            "_dom_classes": [],
            "_model_module": "@jupyter-widgets/controls",
            "_model_module_version": "1.5.0",
            "_model_name": "HTMLModel",
            "_view_count": null,
            "_view_module": "@jupyter-widgets/controls",
            "_view_module_version": "1.5.0",
            "_view_name": "HTMLView",
            "description": "",
            "description_tooltip": null,
            "layout": "IPY_MODEL_d523e0412f844598964804ef7418e27e",
            "placeholder": "​",
            "style": "IPY_MODEL_9fd2a7d314fd4ca49e1e1c2277324f8f",
            "value": "dataset_infos.json: 100%"
          }
        },
        "bf1d194c915c40ef912c041bc4805fc1": {
          "model_module": "@jupyter-widgets/controls",
          "model_name": "FloatProgressModel",
          "model_module_version": "1.5.0",
          "state": {
            "_dom_classes": [],
            "_model_module": "@jupyter-widgets/controls",
            "_model_module_version": "1.5.0",
            "_model_name": "FloatProgressModel",
            "_view_count": null,
            "_view_module": "@jupyter-widgets/controls",
            "_view_module_version": "1.5.0",
            "_view_name": "ProgressView",
            "bar_style": "success",
            "description": "",
            "description_tooltip": null,
            "layout": "IPY_MODEL_7c3e17b3ca8944fabc204b8cd9f6e16b",
            "max": 921,
            "min": 0,
            "orientation": "horizontal",
            "style": "IPY_MODEL_40cfb77f9aeb471c822205354d9e3e45",
            "value": 921
          }
        },
        "ac1394fa1343469799af3c3397337c77": {
          "model_module": "@jupyter-widgets/controls",
          "model_name": "HTMLModel",
          "model_module_version": "1.5.0",
          "state": {
            "_dom_classes": [],
            "_model_module": "@jupyter-widgets/controls",
            "_model_module_version": "1.5.0",
            "_model_name": "HTMLModel",
            "_view_count": null,
            "_view_module": "@jupyter-widgets/controls",
            "_view_module_version": "1.5.0",
            "_view_name": "HTMLView",
            "description": "",
            "description_tooltip": null,
            "layout": "IPY_MODEL_4f988dd781e740e09399d005ec5b2cf9",
            "placeholder": "​",
            "style": "IPY_MODEL_6a3b8e2c2b72400ba52b23dc77b73e39",
            "value": " 921/921 [00:00&lt;00:00, 39.8kB/s]"
          }
        },
        "4b93553cbcc24d61be75b622571226ed": {
          "model_module": "@jupyter-widgets/base",
          "model_name": "LayoutModel",
          "model_module_version": "1.2.0",
          "state": {
            "_model_module": "@jupyter-widgets/base",
            "_model_module_version": "1.2.0",
            "_model_name": "LayoutModel",
            "_view_count": null,
            "_view_module": "@jupyter-widgets/base",
            "_view_module_version": "1.2.0",
            "_view_name": "LayoutView",
            "align_content": null,
            "align_items": null,
            "align_self": null,
            "border": null,
            "bottom": null,
            "display": null,
            "flex": null,
            "flex_flow": null,
            "grid_area": null,
            "grid_auto_columns": null,
            "grid_auto_flow": null,
            "grid_auto_rows": null,
            "grid_column": null,
            "grid_gap": null,
            "grid_row": null,
            "grid_template_areas": null,
            "grid_template_columns": null,
            "grid_template_rows": null,
            "height": null,
            "justify_content": null,
            "justify_items": null,
            "left": null,
            "margin": null,
            "max_height": null,
            "max_width": null,
            "min_height": null,
            "min_width": null,
            "object_fit": null,
            "object_position": null,
            "order": null,
            "overflow": null,
            "overflow_x": null,
            "overflow_y": null,
            "padding": null,
            "right": null,
            "top": null,
            "visibility": null,
            "width": null
          }
        },
        "d523e0412f844598964804ef7418e27e": {
          "model_module": "@jupyter-widgets/base",
          "model_name": "LayoutModel",
          "model_module_version": "1.2.0",
          "state": {
            "_model_module": "@jupyter-widgets/base",
            "_model_module_version": "1.2.0",
            "_model_name": "LayoutModel",
            "_view_count": null,
            "_view_module": "@jupyter-widgets/base",
            "_view_module_version": "1.2.0",
            "_view_name": "LayoutView",
            "align_content": null,
            "align_items": null,
            "align_self": null,
            "border": null,
            "bottom": null,
            "display": null,
            "flex": null,
            "flex_flow": null,
            "grid_area": null,
            "grid_auto_columns": null,
            "grid_auto_flow": null,
            "grid_auto_rows": null,
            "grid_column": null,
            "grid_gap": null,
            "grid_row": null,
            "grid_template_areas": null,
            "grid_template_columns": null,
            "grid_template_rows": null,
            "height": null,
            "justify_content": null,
            "justify_items": null,
            "left": null,
            "margin": null,
            "max_height": null,
            "max_width": null,
            "min_height": null,
            "min_width": null,
            "object_fit": null,
            "object_position": null,
            "order": null,
            "overflow": null,
            "overflow_x": null,
            "overflow_y": null,
            "padding": null,
            "right": null,
            "top": null,
            "visibility": null,
            "width": null
          }
        },
        "9fd2a7d314fd4ca49e1e1c2277324f8f": {
          "model_module": "@jupyter-widgets/controls",
          "model_name": "DescriptionStyleModel",
          "model_module_version": "1.5.0",
          "state": {
            "_model_module": "@jupyter-widgets/controls",
            "_model_module_version": "1.5.0",
            "_model_name": "DescriptionStyleModel",
            "_view_count": null,
            "_view_module": "@jupyter-widgets/base",
            "_view_module_version": "1.2.0",
            "_view_name": "StyleView",
            "description_width": ""
          }
        },
        "7c3e17b3ca8944fabc204b8cd9f6e16b": {
          "model_module": "@jupyter-widgets/base",
          "model_name": "LayoutModel",
          "model_module_version": "1.2.0",
          "state": {
            "_model_module": "@jupyter-widgets/base",
            "_model_module_version": "1.2.0",
            "_model_name": "LayoutModel",
            "_view_count": null,
            "_view_module": "@jupyter-widgets/base",
            "_view_module_version": "1.2.0",
            "_view_name": "LayoutView",
            "align_content": null,
            "align_items": null,
            "align_self": null,
            "border": null,
            "bottom": null,
            "display": null,
            "flex": null,
            "flex_flow": null,
            "grid_area": null,
            "grid_auto_columns": null,
            "grid_auto_flow": null,
            "grid_auto_rows": null,
            "grid_column": null,
            "grid_gap": null,
            "grid_row": null,
            "grid_template_areas": null,
            "grid_template_columns": null,
            "grid_template_rows": null,
            "height": null,
            "justify_content": null,
            "justify_items": null,
            "left": null,
            "margin": null,
            "max_height": null,
            "max_width": null,
            "min_height": null,
            "min_width": null,
            "object_fit": null,
            "object_position": null,
            "order": null,
            "overflow": null,
            "overflow_x": null,
            "overflow_y": null,
            "padding": null,
            "right": null,
            "top": null,
            "visibility": null,
            "width": null
          }
        },
        "40cfb77f9aeb471c822205354d9e3e45": {
          "model_module": "@jupyter-widgets/controls",
          "model_name": "ProgressStyleModel",
          "model_module_version": "1.5.0",
          "state": {
            "_model_module": "@jupyter-widgets/controls",
            "_model_module_version": "1.5.0",
            "_model_name": "ProgressStyleModel",
            "_view_count": null,
            "_view_module": "@jupyter-widgets/base",
            "_view_module_version": "1.2.0",
            "_view_name": "StyleView",
            "bar_color": null,
            "description_width": ""
          }
        },
        "4f988dd781e740e09399d005ec5b2cf9": {
          "model_module": "@jupyter-widgets/base",
          "model_name": "LayoutModel",
          "model_module_version": "1.2.0",
          "state": {
            "_model_module": "@jupyter-widgets/base",
            "_model_module_version": "1.2.0",
            "_model_name": "LayoutModel",
            "_view_count": null,
            "_view_module": "@jupyter-widgets/base",
            "_view_module_version": "1.2.0",
            "_view_name": "LayoutView",
            "align_content": null,
            "align_items": null,
            "align_self": null,
            "border": null,
            "bottom": null,
            "display": null,
            "flex": null,
            "flex_flow": null,
            "grid_area": null,
            "grid_auto_columns": null,
            "grid_auto_flow": null,
            "grid_auto_rows": null,
            "grid_column": null,
            "grid_gap": null,
            "grid_row": null,
            "grid_template_areas": null,
            "grid_template_columns": null,
            "grid_template_rows": null,
            "height": null,
            "justify_content": null,
            "justify_items": null,
            "left": null,
            "margin": null,
            "max_height": null,
            "max_width": null,
            "min_height": null,
            "min_width": null,
            "object_fit": null,
            "object_position": null,
            "order": null,
            "overflow": null,
            "overflow_x": null,
            "overflow_y": null,
            "padding": null,
            "right": null,
            "top": null,
            "visibility": null,
            "width": null
          }
        },
        "6a3b8e2c2b72400ba52b23dc77b73e39": {
          "model_module": "@jupyter-widgets/controls",
          "model_name": "DescriptionStyleModel",
          "model_module_version": "1.5.0",
          "state": {
            "_model_module": "@jupyter-widgets/controls",
            "_model_module_version": "1.5.0",
            "_model_name": "DescriptionStyleModel",
            "_view_count": null,
            "_view_module": "@jupyter-widgets/base",
            "_view_module_version": "1.2.0",
            "_view_name": "StyleView",
            "description_width": ""
          }
        },
        "87838d03eeab4e6ba0dcec4f78d0d86c": {
          "model_module": "@jupyter-widgets/controls",
          "model_name": "HBoxModel",
          "model_module_version": "1.5.0",
          "state": {
            "_dom_classes": [],
            "_model_module": "@jupyter-widgets/controls",
            "_model_module_version": "1.5.0",
            "_model_name": "HBoxModel",
            "_view_count": null,
            "_view_module": "@jupyter-widgets/controls",
            "_view_module_version": "1.5.0",
            "_view_name": "HBoxView",
            "box_style": "",
            "children": [
              "IPY_MODEL_07bcf47c38c447c3b0065e90ca2befbc",
              "IPY_MODEL_84925d1d50254f978e591c8941c2500b",
              "IPY_MODEL_a9714872fabc4796a8c9185259094341"
            ],
            "layout": "IPY_MODEL_bb84b36b06d14074863457494c7af481"
          }
        },
        "07bcf47c38c447c3b0065e90ca2befbc": {
          "model_module": "@jupyter-widgets/controls",
          "model_name": "HTMLModel",
          "model_module_version": "1.5.0",
          "state": {
            "_dom_classes": [],
            "_model_module": "@jupyter-widgets/controls",
            "_model_module_version": "1.5.0",
            "_model_name": "HTMLModel",
            "_view_count": null,
            "_view_module": "@jupyter-widgets/controls",
            "_view_module_version": "1.5.0",
            "_view_name": "HTMLView",
            "description": "",
            "description_tooltip": null,
            "layout": "IPY_MODEL_535e2d8ed3df4f7c875b915a1373533c",
            "placeholder": "​",
            "style": "IPY_MODEL_14cc537383774d009e6bfc05a3fb0436",
            "value": "(…)-00000-of-00001-4746b8785c874cc7.parquet: 100%"
          }
        },
        "84925d1d50254f978e591c8941c2500b": {
          "model_module": "@jupyter-widgets/controls",
          "model_name": "FloatProgressModel",
          "model_module_version": "1.5.0",
          "state": {
            "_dom_classes": [],
            "_model_module": "@jupyter-widgets/controls",
            "_model_module_version": "1.5.0",
            "_model_name": "FloatProgressModel",
            "_view_count": null,
            "_view_module": "@jupyter-widgets/controls",
            "_view_module_version": "1.5.0",
            "_view_name": "ProgressView",
            "bar_style": "success",
            "description": "",
            "description_tooltip": null,
            "layout": "IPY_MODEL_25971a8ab62a4d4eb3e4b29d4be44af2",
            "max": 33262901,
            "min": 0,
            "orientation": "horizontal",
            "style": "IPY_MODEL_291c6c3c048443bd92b440feb8682742",
            "value": 33262901
          }
        },
        "a9714872fabc4796a8c9185259094341": {
          "model_module": "@jupyter-widgets/controls",
          "model_name": "HTMLModel",
          "model_module_version": "1.5.0",
          "state": {
            "_dom_classes": [],
            "_model_module": "@jupyter-widgets/controls",
            "_model_module_version": "1.5.0",
            "_model_name": "HTMLModel",
            "_view_count": null,
            "_view_module": "@jupyter-widgets/controls",
            "_view_module_version": "1.5.0",
            "_view_name": "HTMLView",
            "description": "",
            "description_tooltip": null,
            "layout": "IPY_MODEL_cd8cfd6c5bc3442daf2a44da246f5d29",
            "placeholder": "​",
            "style": "IPY_MODEL_ddb1cfcd23074728a8a940c29297bad0",
            "value": " 33.3M/33.3M [00:00&lt;00:00, 145MB/s]"
          }
        },
        "bb84b36b06d14074863457494c7af481": {
          "model_module": "@jupyter-widgets/base",
          "model_name": "LayoutModel",
          "model_module_version": "1.2.0",
          "state": {
            "_model_module": "@jupyter-widgets/base",
            "_model_module_version": "1.2.0",
            "_model_name": "LayoutModel",
            "_view_count": null,
            "_view_module": "@jupyter-widgets/base",
            "_view_module_version": "1.2.0",
            "_view_name": "LayoutView",
            "align_content": null,
            "align_items": null,
            "align_self": null,
            "border": null,
            "bottom": null,
            "display": null,
            "flex": null,
            "flex_flow": null,
            "grid_area": null,
            "grid_auto_columns": null,
            "grid_auto_flow": null,
            "grid_auto_rows": null,
            "grid_column": null,
            "grid_gap": null,
            "grid_row": null,
            "grid_template_areas": null,
            "grid_template_columns": null,
            "grid_template_rows": null,
            "height": null,
            "justify_content": null,
            "justify_items": null,
            "left": null,
            "margin": null,
            "max_height": null,
            "max_width": null,
            "min_height": null,
            "min_width": null,
            "object_fit": null,
            "object_position": null,
            "order": null,
            "overflow": null,
            "overflow_x": null,
            "overflow_y": null,
            "padding": null,
            "right": null,
            "top": null,
            "visibility": null,
            "width": null
          }
        },
        "535e2d8ed3df4f7c875b915a1373533c": {
          "model_module": "@jupyter-widgets/base",
          "model_name": "LayoutModel",
          "model_module_version": "1.2.0",
          "state": {
            "_model_module": "@jupyter-widgets/base",
            "_model_module_version": "1.2.0",
            "_model_name": "LayoutModel",
            "_view_count": null,
            "_view_module": "@jupyter-widgets/base",
            "_view_module_version": "1.2.0",
            "_view_name": "LayoutView",
            "align_content": null,
            "align_items": null,
            "align_self": null,
            "border": null,
            "bottom": null,
            "display": null,
            "flex": null,
            "flex_flow": null,
            "grid_area": null,
            "grid_auto_columns": null,
            "grid_auto_flow": null,
            "grid_auto_rows": null,
            "grid_column": null,
            "grid_gap": null,
            "grid_row": null,
            "grid_template_areas": null,
            "grid_template_columns": null,
            "grid_template_rows": null,
            "height": null,
            "justify_content": null,
            "justify_items": null,
            "left": null,
            "margin": null,
            "max_height": null,
            "max_width": null,
            "min_height": null,
            "min_width": null,
            "object_fit": null,
            "object_position": null,
            "order": null,
            "overflow": null,
            "overflow_x": null,
            "overflow_y": null,
            "padding": null,
            "right": null,
            "top": null,
            "visibility": null,
            "width": null
          }
        },
        "14cc537383774d009e6bfc05a3fb0436": {
          "model_module": "@jupyter-widgets/controls",
          "model_name": "DescriptionStyleModel",
          "model_module_version": "1.5.0",
          "state": {
            "_model_module": "@jupyter-widgets/controls",
            "_model_module_version": "1.5.0",
            "_model_name": "DescriptionStyleModel",
            "_view_count": null,
            "_view_module": "@jupyter-widgets/base",
            "_view_module_version": "1.2.0",
            "_view_name": "StyleView",
            "description_width": ""
          }
        },
        "25971a8ab62a4d4eb3e4b29d4be44af2": {
          "model_module": "@jupyter-widgets/base",
          "model_name": "LayoutModel",
          "model_module_version": "1.2.0",
          "state": {
            "_model_module": "@jupyter-widgets/base",
            "_model_module_version": "1.2.0",
            "_model_name": "LayoutModel",
            "_view_count": null,
            "_view_module": "@jupyter-widgets/base",
            "_view_module_version": "1.2.0",
            "_view_name": "LayoutView",
            "align_content": null,
            "align_items": null,
            "align_self": null,
            "border": null,
            "bottom": null,
            "display": null,
            "flex": null,
            "flex_flow": null,
            "grid_area": null,
            "grid_auto_columns": null,
            "grid_auto_flow": null,
            "grid_auto_rows": null,
            "grid_column": null,
            "grid_gap": null,
            "grid_row": null,
            "grid_template_areas": null,
            "grid_template_columns": null,
            "grid_template_rows": null,
            "height": null,
            "justify_content": null,
            "justify_items": null,
            "left": null,
            "margin": null,
            "max_height": null,
            "max_width": null,
            "min_height": null,
            "min_width": null,
            "object_fit": null,
            "object_position": null,
            "order": null,
            "overflow": null,
            "overflow_x": null,
            "overflow_y": null,
            "padding": null,
            "right": null,
            "top": null,
            "visibility": null,
            "width": null
          }
        },
        "291c6c3c048443bd92b440feb8682742": {
          "model_module": "@jupyter-widgets/controls",
          "model_name": "ProgressStyleModel",
          "model_module_version": "1.5.0",
          "state": {
            "_model_module": "@jupyter-widgets/controls",
            "_model_module_version": "1.5.0",
            "_model_name": "ProgressStyleModel",
            "_view_count": null,
            "_view_module": "@jupyter-widgets/base",
            "_view_module_version": "1.2.0",
            "_view_name": "StyleView",
            "bar_color": null,
            "description_width": ""
          }
        },
        "cd8cfd6c5bc3442daf2a44da246f5d29": {
          "model_module": "@jupyter-widgets/base",
          "model_name": "LayoutModel",
          "model_module_version": "1.2.0",
          "state": {
            "_model_module": "@jupyter-widgets/base",
            "_model_module_version": "1.2.0",
            "_model_name": "LayoutModel",
            "_view_count": null,
            "_view_module": "@jupyter-widgets/base",
            "_view_module_version": "1.2.0",
            "_view_name": "LayoutView",
            "align_content": null,
            "align_items": null,
            "align_self": null,
            "border": null,
            "bottom": null,
            "display": null,
            "flex": null,
            "flex_flow": null,
            "grid_area": null,
            "grid_auto_columns": null,
            "grid_auto_flow": null,
            "grid_auto_rows": null,
            "grid_column": null,
            "grid_gap": null,
            "grid_row": null,
            "grid_template_areas": null,
            "grid_template_columns": null,
            "grid_template_rows": null,
            "height": null,
            "justify_content": null,
            "justify_items": null,
            "left": null,
            "margin": null,
            "max_height": null,
            "max_width": null,
            "min_height": null,
            "min_width": null,
            "object_fit": null,
            "object_position": null,
            "order": null,
            "overflow": null,
            "overflow_x": null,
            "overflow_y": null,
            "padding": null,
            "right": null,
            "top": null,
            "visibility": null,
            "width": null
          }
        },
        "ddb1cfcd23074728a8a940c29297bad0": {
          "model_module": "@jupyter-widgets/controls",
          "model_name": "DescriptionStyleModel",
          "model_module_version": "1.5.0",
          "state": {
            "_model_module": "@jupyter-widgets/controls",
            "_model_module_version": "1.5.0",
            "_model_name": "DescriptionStyleModel",
            "_view_count": null,
            "_view_module": "@jupyter-widgets/base",
            "_view_module_version": "1.2.0",
            "_view_name": "StyleView",
            "description_width": ""
          }
        },
        "d503fb330b534dc18e5e1ce416cb1088": {
          "model_module": "@jupyter-widgets/controls",
          "model_name": "HBoxModel",
          "model_module_version": "1.5.0",
          "state": {
            "_dom_classes": [],
            "_model_module": "@jupyter-widgets/controls",
            "_model_module_version": "1.5.0",
            "_model_name": "HBoxModel",
            "_view_count": null,
            "_view_module": "@jupyter-widgets/controls",
            "_view_module_version": "1.5.0",
            "_view_name": "HBoxView",
            "box_style": "",
            "children": [
              "IPY_MODEL_ddf550ab44d8458f9edc91c688ade033",
              "IPY_MODEL_8f86c0465b0e4d74a90e528410b8677b",
              "IPY_MODEL_8a289786d075425fa000052edd519854"
            ],
            "layout": "IPY_MODEL_c234cc1e3fc9456ca4861e8a180f58b2"
          }
        },
        "ddf550ab44d8458f9edc91c688ade033": {
          "model_module": "@jupyter-widgets/controls",
          "model_name": "HTMLModel",
          "model_module_version": "1.5.0",
          "state": {
            "_dom_classes": [],
            "_model_module": "@jupyter-widgets/controls",
            "_model_module_version": "1.5.0",
            "_model_name": "HTMLModel",
            "_view_count": null,
            "_view_module": "@jupyter-widgets/controls",
            "_view_module_version": "1.5.0",
            "_view_name": "HTMLView",
            "description": "",
            "description_tooltip": null,
            "layout": "IPY_MODEL_60738de59a9f4f2e940b598f6e48f069",
            "placeholder": "​",
            "style": "IPY_MODEL_10cd6f9a60984e468a2f7722205477fa",
            "value": "Generating train split: 100%"
          }
        },
        "8f86c0465b0e4d74a90e528410b8677b": {
          "model_module": "@jupyter-widgets/controls",
          "model_name": "FloatProgressModel",
          "model_module_version": "1.5.0",
          "state": {
            "_dom_classes": [],
            "_model_module": "@jupyter-widgets/controls",
            "_model_module_version": "1.5.0",
            "_model_name": "FloatProgressModel",
            "_view_count": null,
            "_view_module": "@jupyter-widgets/controls",
            "_view_module_version": "1.5.0",
            "_view_name": "ProgressView",
            "bar_style": "success",
            "description": "",
            "description_tooltip": null,
            "layout": "IPY_MODEL_55b0a51944f34139886d43712828b5d2",
            "max": 10000,
            "min": 0,
            "orientation": "horizontal",
            "style": "IPY_MODEL_50ad5087051a4ba98cd9e71ed88237a1",
            "value": 10000
          }
        },
        "8a289786d075425fa000052edd519854": {
          "model_module": "@jupyter-widgets/controls",
          "model_name": "HTMLModel",
          "model_module_version": "1.5.0",
          "state": {
            "_dom_classes": [],
            "_model_module": "@jupyter-widgets/controls",
            "_model_module_version": "1.5.0",
            "_model_name": "HTMLModel",
            "_view_count": null,
            "_view_module": "@jupyter-widgets/controls",
            "_view_module_version": "1.5.0",
            "_view_name": "HTMLView",
            "description": "",
            "description_tooltip": null,
            "layout": "IPY_MODEL_72602a90f4b743f4aa5af9fb778e2a8d",
            "placeholder": "​",
            "style": "IPY_MODEL_2171eb6c565b45d283e0d4d2eb2a2c77",
            "value": " 10000/10000 [00:01&lt;00:00, 9126.90 examples/s]"
          }
        },
        "c234cc1e3fc9456ca4861e8a180f58b2": {
          "model_module": "@jupyter-widgets/base",
          "model_name": "LayoutModel",
          "model_module_version": "1.2.0",
          "state": {
            "_model_module": "@jupyter-widgets/base",
            "_model_module_version": "1.2.0",
            "_model_name": "LayoutModel",
            "_view_count": null,
            "_view_module": "@jupyter-widgets/base",
            "_view_module_version": "1.2.0",
            "_view_name": "LayoutView",
            "align_content": null,
            "align_items": null,
            "align_self": null,
            "border": null,
            "bottom": null,
            "display": null,
            "flex": null,
            "flex_flow": null,
            "grid_area": null,
            "grid_auto_columns": null,
            "grid_auto_flow": null,
            "grid_auto_rows": null,
            "grid_column": null,
            "grid_gap": null,
            "grid_row": null,
            "grid_template_areas": null,
            "grid_template_columns": null,
            "grid_template_rows": null,
            "height": null,
            "justify_content": null,
            "justify_items": null,
            "left": null,
            "margin": null,
            "max_height": null,
            "max_width": null,
            "min_height": null,
            "min_width": null,
            "object_fit": null,
            "object_position": null,
            "order": null,
            "overflow": null,
            "overflow_x": null,
            "overflow_y": null,
            "padding": null,
            "right": null,
            "top": null,
            "visibility": null,
            "width": null
          }
        },
        "60738de59a9f4f2e940b598f6e48f069": {
          "model_module": "@jupyter-widgets/base",
          "model_name": "LayoutModel",
          "model_module_version": "1.2.0",
          "state": {
            "_model_module": "@jupyter-widgets/base",
            "_model_module_version": "1.2.0",
            "_model_name": "LayoutModel",
            "_view_count": null,
            "_view_module": "@jupyter-widgets/base",
            "_view_module_version": "1.2.0",
            "_view_name": "LayoutView",
            "align_content": null,
            "align_items": null,
            "align_self": null,
            "border": null,
            "bottom": null,
            "display": null,
            "flex": null,
            "flex_flow": null,
            "grid_area": null,
            "grid_auto_columns": null,
            "grid_auto_flow": null,
            "grid_auto_rows": null,
            "grid_column": null,
            "grid_gap": null,
            "grid_row": null,
            "grid_template_areas": null,
            "grid_template_columns": null,
            "grid_template_rows": null,
            "height": null,
            "justify_content": null,
            "justify_items": null,
            "left": null,
            "margin": null,
            "max_height": null,
            "max_width": null,
            "min_height": null,
            "min_width": null,
            "object_fit": null,
            "object_position": null,
            "order": null,
            "overflow": null,
            "overflow_x": null,
            "overflow_y": null,
            "padding": null,
            "right": null,
            "top": null,
            "visibility": null,
            "width": null
          }
        },
        "10cd6f9a60984e468a2f7722205477fa": {
          "model_module": "@jupyter-widgets/controls",
          "model_name": "DescriptionStyleModel",
          "model_module_version": "1.5.0",
          "state": {
            "_model_module": "@jupyter-widgets/controls",
            "_model_module_version": "1.5.0",
            "_model_name": "DescriptionStyleModel",
            "_view_count": null,
            "_view_module": "@jupyter-widgets/base",
            "_view_module_version": "1.2.0",
            "_view_name": "StyleView",
            "description_width": ""
          }
        },
        "55b0a51944f34139886d43712828b5d2": {
          "model_module": "@jupyter-widgets/base",
          "model_name": "LayoutModel",
          "model_module_version": "1.2.0",
          "state": {
            "_model_module": "@jupyter-widgets/base",
            "_model_module_version": "1.2.0",
            "_model_name": "LayoutModel",
            "_view_count": null,
            "_view_module": "@jupyter-widgets/base",
            "_view_module_version": "1.2.0",
            "_view_name": "LayoutView",
            "align_content": null,
            "align_items": null,
            "align_self": null,
            "border": null,
            "bottom": null,
            "display": null,
            "flex": null,
            "flex_flow": null,
            "grid_area": null,
            "grid_auto_columns": null,
            "grid_auto_flow": null,
            "grid_auto_rows": null,
            "grid_column": null,
            "grid_gap": null,
            "grid_row": null,
            "grid_template_areas": null,
            "grid_template_columns": null,
            "grid_template_rows": null,
            "height": null,
            "justify_content": null,
            "justify_items": null,
            "left": null,
            "margin": null,
            "max_height": null,
            "max_width": null,
            "min_height": null,
            "min_width": null,
            "object_fit": null,
            "object_position": null,
            "order": null,
            "overflow": null,
            "overflow_x": null,
            "overflow_y": null,
            "padding": null,
            "right": null,
            "top": null,
            "visibility": null,
            "width": null
          }
        },
        "50ad5087051a4ba98cd9e71ed88237a1": {
          "model_module": "@jupyter-widgets/controls",
          "model_name": "ProgressStyleModel",
          "model_module_version": "1.5.0",
          "state": {
            "_model_module": "@jupyter-widgets/controls",
            "_model_module_version": "1.5.0",
            "_model_name": "ProgressStyleModel",
            "_view_count": null,
            "_view_module": "@jupyter-widgets/base",
            "_view_module_version": "1.2.0",
            "_view_name": "StyleView",
            "bar_color": null,
            "description_width": ""
          }
        },
        "72602a90f4b743f4aa5af9fb778e2a8d": {
          "model_module": "@jupyter-widgets/base",
          "model_name": "LayoutModel",
          "model_module_version": "1.2.0",
          "state": {
            "_model_module": "@jupyter-widgets/base",
            "_model_module_version": "1.2.0",
            "_model_name": "LayoutModel",
            "_view_count": null,
            "_view_module": "@jupyter-widgets/base",
            "_view_module_version": "1.2.0",
            "_view_name": "LayoutView",
            "align_content": null,
            "align_items": null,
            "align_self": null,
            "border": null,
            "bottom": null,
            "display": null,
            "flex": null,
            "flex_flow": null,
            "grid_area": null,
            "grid_auto_columns": null,
            "grid_auto_flow": null,
            "grid_auto_rows": null,
            "grid_column": null,
            "grid_gap": null,
            "grid_row": null,
            "grid_template_areas": null,
            "grid_template_columns": null,
            "grid_template_rows": null,
            "height": null,
            "justify_content": null,
            "justify_items": null,
            "left": null,
            "margin": null,
            "max_height": null,
            "max_width": null,
            "min_height": null,
            "min_width": null,
            "object_fit": null,
            "object_position": null,
            "order": null,
            "overflow": null,
            "overflow_x": null,
            "overflow_y": null,
            "padding": null,
            "right": null,
            "top": null,
            "visibility": null,
            "width": null
          }
        },
        "2171eb6c565b45d283e0d4d2eb2a2c77": {
          "model_module": "@jupyter-widgets/controls",
          "model_name": "DescriptionStyleModel",
          "model_module_version": "1.5.0",
          "state": {
            "_model_module": "@jupyter-widgets/controls",
            "_model_module_version": "1.5.0",
            "_model_name": "DescriptionStyleModel",
            "_view_count": null,
            "_view_module": "@jupyter-widgets/base",
            "_view_module_version": "1.2.0",
            "_view_name": "StyleView",
            "description_width": ""
          }
        },
        "5b0bb1f3984b4db4a7245fe1d874f674": {
          "model_module": "@jupyter-widgets/controls",
          "model_name": "HBoxModel",
          "model_module_version": "1.5.0",
          "state": {
            "_dom_classes": [],
            "_model_module": "@jupyter-widgets/controls",
            "_model_module_version": "1.5.0",
            "_model_name": "HBoxModel",
            "_view_count": null,
            "_view_module": "@jupyter-widgets/controls",
            "_view_module_version": "1.5.0",
            "_view_name": "HBoxView",
            "box_style": "",
            "children": [
              "IPY_MODEL_b93c1323d3dd4e0babe8fac9df428dc1",
              "IPY_MODEL_71fa0fb00da04483ab2a7f2cf5adc2ed",
              "IPY_MODEL_384ee5e64a5e4b6ab898b081616d82ad"
            ],
            "layout": "IPY_MODEL_1d2e62c61168428fb0b80e7a19e7cc1e"
          }
        },
        "b93c1323d3dd4e0babe8fac9df428dc1": {
          "model_module": "@jupyter-widgets/controls",
          "model_name": "HTMLModel",
          "model_module_version": "1.5.0",
          "state": {
            "_dom_classes": [],
            "_model_module": "@jupyter-widgets/controls",
            "_model_module_version": "1.5.0",
            "_model_name": "HTMLModel",
            "_view_count": null,
            "_view_module": "@jupyter-widgets/controls",
            "_view_module_version": "1.5.0",
            "_view_name": "HTMLView",
            "description": "",
            "description_tooltip": null,
            "layout": "IPY_MODEL_1bea68566c6b40adace42dec933fb576",
            "placeholder": "​",
            "style": "IPY_MODEL_54103d74255947698495f346c737ec7c",
            "value": "  0%"
          }
        },
        "71fa0fb00da04483ab2a7f2cf5adc2ed": {
          "model_module": "@jupyter-widgets/controls",
          "model_name": "FloatProgressModel",
          "model_module_version": "1.5.0",
          "state": {
            "_dom_classes": [],
            "_model_module": "@jupyter-widgets/controls",
            "_model_module_version": "1.5.0",
            "_model_name": "FloatProgressModel",
            "_view_count": null,
            "_view_module": "@jupyter-widgets/controls",
            "_view_module_version": "1.5.0",
            "_view_name": "ProgressView",
            "bar_style": "",
            "description": "",
            "description_tooltip": null,
            "layout": "IPY_MODEL_a84f26024b00485387ef531b644c5701",
            "max": 1000,
            "min": 0,
            "orientation": "horizontal",
            "style": "IPY_MODEL_db47ae23ea6641ddb6cab486d685f7e4",
            "value": 0
          }
        },
        "384ee5e64a5e4b6ab898b081616d82ad": {
          "model_module": "@jupyter-widgets/controls",
          "model_name": "HTMLModel",
          "model_module_version": "1.5.0",
          "state": {
            "_dom_classes": [],
            "_model_module": "@jupyter-widgets/controls",
            "_model_module_version": "1.5.0",
            "_model_name": "HTMLModel",
            "_view_count": null,
            "_view_module": "@jupyter-widgets/controls",
            "_view_module_version": "1.5.0",
            "_view_name": "HTMLView",
            "description": "",
            "description_tooltip": null,
            "layout": "IPY_MODEL_3dad6777f1034683830971f909d19fe9",
            "placeholder": "​",
            "style": "IPY_MODEL_1770875231eb4ccab3797fbc734ba2fc",
            "value": " 0/1000 [00:00&lt;?, ?it/s]"
          }
        },
        "1d2e62c61168428fb0b80e7a19e7cc1e": {
          "model_module": "@jupyter-widgets/base",
          "model_name": "LayoutModel",
          "model_module_version": "1.2.0",
          "state": {
            "_model_module": "@jupyter-widgets/base",
            "_model_module_version": "1.2.0",
            "_model_name": "LayoutModel",
            "_view_count": null,
            "_view_module": "@jupyter-widgets/base",
            "_view_module_version": "1.2.0",
            "_view_name": "LayoutView",
            "align_content": null,
            "align_items": null,
            "align_self": null,
            "border": null,
            "bottom": null,
            "display": null,
            "flex": null,
            "flex_flow": null,
            "grid_area": null,
            "grid_auto_columns": null,
            "grid_auto_flow": null,
            "grid_auto_rows": null,
            "grid_column": null,
            "grid_gap": null,
            "grid_row": null,
            "grid_template_areas": null,
            "grid_template_columns": null,
            "grid_template_rows": null,
            "height": null,
            "justify_content": null,
            "justify_items": null,
            "left": null,
            "margin": null,
            "max_height": null,
            "max_width": null,
            "min_height": null,
            "min_width": null,
            "object_fit": null,
            "object_position": null,
            "order": null,
            "overflow": null,
            "overflow_x": null,
            "overflow_y": null,
            "padding": null,
            "right": null,
            "top": null,
            "visibility": null,
            "width": null
          }
        },
        "1bea68566c6b40adace42dec933fb576": {
          "model_module": "@jupyter-widgets/base",
          "model_name": "LayoutModel",
          "model_module_version": "1.2.0",
          "state": {
            "_model_module": "@jupyter-widgets/base",
            "_model_module_version": "1.2.0",
            "_model_name": "LayoutModel",
            "_view_count": null,
            "_view_module": "@jupyter-widgets/base",
            "_view_module_version": "1.2.0",
            "_view_name": "LayoutView",
            "align_content": null,
            "align_items": null,
            "align_self": null,
            "border": null,
            "bottom": null,
            "display": null,
            "flex": null,
            "flex_flow": null,
            "grid_area": null,
            "grid_auto_columns": null,
            "grid_auto_flow": null,
            "grid_auto_rows": null,
            "grid_column": null,
            "grid_gap": null,
            "grid_row": null,
            "grid_template_areas": null,
            "grid_template_columns": null,
            "grid_template_rows": null,
            "height": null,
            "justify_content": null,
            "justify_items": null,
            "left": null,
            "margin": null,
            "max_height": null,
            "max_width": null,
            "min_height": null,
            "min_width": null,
            "object_fit": null,
            "object_position": null,
            "order": null,
            "overflow": null,
            "overflow_x": null,
            "overflow_y": null,
            "padding": null,
            "right": null,
            "top": null,
            "visibility": null,
            "width": null
          }
        },
        "54103d74255947698495f346c737ec7c": {
          "model_module": "@jupyter-widgets/controls",
          "model_name": "DescriptionStyleModel",
          "model_module_version": "1.5.0",
          "state": {
            "_model_module": "@jupyter-widgets/controls",
            "_model_module_version": "1.5.0",
            "_model_name": "DescriptionStyleModel",
            "_view_count": null,
            "_view_module": "@jupyter-widgets/base",
            "_view_module_version": "1.2.0",
            "_view_name": "StyleView",
            "description_width": ""
          }
        },
        "a84f26024b00485387ef531b644c5701": {
          "model_module": "@jupyter-widgets/base",
          "model_name": "LayoutModel",
          "model_module_version": "1.2.0",
          "state": {
            "_model_module": "@jupyter-widgets/base",
            "_model_module_version": "1.2.0",
            "_model_name": "LayoutModel",
            "_view_count": null,
            "_view_module": "@jupyter-widgets/base",
            "_view_module_version": "1.2.0",
            "_view_name": "LayoutView",
            "align_content": null,
            "align_items": null,
            "align_self": null,
            "border": null,
            "bottom": null,
            "display": null,
            "flex": null,
            "flex_flow": null,
            "grid_area": null,
            "grid_auto_columns": null,
            "grid_auto_flow": null,
            "grid_auto_rows": null,
            "grid_column": null,
            "grid_gap": null,
            "grid_row": null,
            "grid_template_areas": null,
            "grid_template_columns": null,
            "grid_template_rows": null,
            "height": null,
            "justify_content": null,
            "justify_items": null,
            "left": null,
            "margin": null,
            "max_height": null,
            "max_width": null,
            "min_height": null,
            "min_width": null,
            "object_fit": null,
            "object_position": null,
            "order": null,
            "overflow": null,
            "overflow_x": null,
            "overflow_y": null,
            "padding": null,
            "right": null,
            "top": null,
            "visibility": null,
            "width": null
          }
        },
        "db47ae23ea6641ddb6cab486d685f7e4": {
          "model_module": "@jupyter-widgets/controls",
          "model_name": "ProgressStyleModel",
          "model_module_version": "1.5.0",
          "state": {
            "_model_module": "@jupyter-widgets/controls",
            "_model_module_version": "1.5.0",
            "_model_name": "ProgressStyleModel",
            "_view_count": null,
            "_view_module": "@jupyter-widgets/base",
            "_view_module_version": "1.2.0",
            "_view_name": "StyleView",
            "bar_color": null,
            "description_width": ""
          }
        },
        "3dad6777f1034683830971f909d19fe9": {
          "model_module": "@jupyter-widgets/base",
          "model_name": "LayoutModel",
          "model_module_version": "1.2.0",
          "state": {
            "_model_module": "@jupyter-widgets/base",
            "_model_module_version": "1.2.0",
            "_model_name": "LayoutModel",
            "_view_count": null,
            "_view_module": "@jupyter-widgets/base",
            "_view_module_version": "1.2.0",
            "_view_name": "LayoutView",
            "align_content": null,
            "align_items": null,
            "align_self": null,
            "border": null,
            "bottom": null,
            "display": null,
            "flex": null,
            "flex_flow": null,
            "grid_area": null,
            "grid_auto_columns": null,
            "grid_auto_flow": null,
            "grid_auto_rows": null,
            "grid_column": null,
            "grid_gap": null,
            "grid_row": null,
            "grid_template_areas": null,
            "grid_template_columns": null,
            "grid_template_rows": null,
            "height": null,
            "justify_content": null,
            "justify_items": null,
            "left": null,
            "margin": null,
            "max_height": null,
            "max_width": null,
            "min_height": null,
            "min_width": null,
            "object_fit": null,
            "object_position": null,
            "order": null,
            "overflow": null,
            "overflow_x": null,
            "overflow_y": null,
            "padding": null,
            "right": null,
            "top": null,
            "visibility": null,
            "width": null
          }
        },
        "1770875231eb4ccab3797fbc734ba2fc": {
          "model_module": "@jupyter-widgets/controls",
          "model_name": "DescriptionStyleModel",
          "model_module_version": "1.5.0",
          "state": {
            "_model_module": "@jupyter-widgets/controls",
            "_model_module_version": "1.5.0",
            "_model_name": "DescriptionStyleModel",
            "_view_count": null,
            "_view_module": "@jupyter-widgets/base",
            "_view_module_version": "1.2.0",
            "_view_name": "StyleView",
            "description_width": ""
          }
        }
      }
    }
  },
  "cells": [
    {
      "cell_type": "markdown",
      "metadata": {
        "id": "view-in-github",
        "colab_type": "text"
      },
      "source": [
        "<a href=\"https://colab.research.google.com/github/TimStep/QTransformer/blob/main/QGPT.ipynb\" target=\"_parent\"><img src=\"https://colab.research.google.com/assets/colab-badge.svg\" alt=\"Open In Colab\"/></a>"
      ]
    },
    {
      "cell_type": "code",
      "execution_count": 60,
      "metadata": {
        "id": "MpEJcpcXcjYT"
      },
      "outputs": [],
      "source": [
        "!pip install -q pennylane transformer_lens"
      ]
    },
    {
      "cell_type": "code",
      "source": [
        "import math\n",
        "import pennylane as qml\n",
        "import torch\n",
        "#from transformers import GPTNeoForCausalLM, GPT2Tokenizer\n",
        "import torch.nn as nn\n",
        "import torch.optim as optim\n",
        "from torch.utils.data import Dataset, DataLoader\n",
        "from dataclasses import dataclass\n",
        "import numpy as np\n",
        "import matplotlib.pyplot as plt\n",
        "from tqdm.notebook import tqdm\n",
        "import sklearn.metrics as metrics\n",
        "from transformer_lens import HookedTransformer\n",
        "from datasets import load_dataset"
      ],
      "metadata": {
        "id": "F_H0je0UfVes"
      },
      "execution_count": 61,
      "outputs": []
    },
    {
      "cell_type": "code",
      "source": [
        "RANDOM_SEED = 5678\n",
        "torch.manual_seed(seed=RANDOM_SEED)\n",
        "torch.cuda.manual_seed(seed=RANDOM_SEED)\n",
        "np.random.seed(RANDOM_SEED)"
      ],
      "metadata": {
        "id": "Ah-xV1q5f69l"
      },
      "execution_count": 62,
      "outputs": []
    },
    {
      "cell_type": "code",
      "source": [
        "device = \"cuda\" if torch.cuda.is_available() else \"cpu\"\n",
        "device"
      ],
      "metadata": {
        "colab": {
          "base_uri": "https://localhost:8080/",
          "height": 35
        },
        "id": "FWeV7j1Ef-Sy",
        "outputId": "d768e978-55ff-4ea9-a2de-0aa92b304b4d"
      },
      "execution_count": 63,
      "outputs": [
        {
          "output_type": "execute_result",
          "data": {
            "text/plain": [
              "'cuda'"
            ],
            "application/vnd.google.colaboratory.intrinsic+json": {
              "type": "string"
            }
          },
          "metadata": {},
          "execution_count": 63
        }
      ]
    },
    {
      "cell_type": "markdown",
      "source": [
        "# Tokenizer"
      ],
      "metadata": {
        "id": "FqpZjp0eOLmq"
      }
    },
    {
      "cell_type": "code",
      "source": [
        "reference_gpt2 = HookedTransformer.from_pretrained(\"gpt2-small\", fold_ln=False, center_unembed=False, center_writing_weights=False)\n",
        "gpt2_tokenizer = reference_gpt2.tokenizer"
      ],
      "metadata": {
        "id": "b-jef8DSPRQD",
        "collapsed": true,
        "colab": {
          "base_uri": "https://localhost:8080/"
        },
        "outputId": "f007bd87-e787-4473-9eb9-46689df7eb85"
      },
      "execution_count": 64,
      "outputs": [
        {
          "output_type": "stream",
          "name": "stdout",
          "text": [
            "Loaded pretrained model gpt2-small into HookedTransformer\n"
          ]
        }
      ]
    },
    {
      "cell_type": "code",
      "source": [
        "reference_text = [\"Jingle bells, jingle bells, jingle all the way\", \"Today I was walking home, when suddenly\"]\n",
        "text_tokens = reference_gpt2.to_tokens(reference_text)\n",
        "text_tokens"
      ],
      "metadata": {
        "colab": {
          "base_uri": "https://localhost:8080/"
        },
        "id": "kzHAmtBpfaah",
        "outputId": "817e0253-e3c1-4aa1-b6db-03e9c7cdf898"
      },
      "execution_count": 65,
      "outputs": [
        {
          "output_type": "execute_result",
          "data": {
            "text/plain": [
              "tensor([[50256,    41, 17697, 30987,    11,   474, 17697, 30987,    11,   474,\n",
              "         17697,   477,   262,   835],\n",
              "        [50256,  8888,   314,   373,  6155,  1363,    11,   618,  6451, 50256,\n",
              "         50256, 50256, 50256, 50256]], device='cuda:0')"
            ]
          },
          "metadata": {},
          "execution_count": 65
        }
      ]
    },
    {
      "cell_type": "code",
      "source": [
        "gpt2_tokenizer.decode(text_tokens[1])"
      ],
      "metadata": {
        "colab": {
          "base_uri": "https://localhost:8080/",
          "height": 35
        },
        "id": "P_fOP_uKbloL",
        "outputId": "4a14cac6-f8aa-4116-b814-f8ca97712a19"
      },
      "execution_count": 66,
      "outputs": [
        {
          "output_type": "execute_result",
          "data": {
            "text/plain": [
              "'<|endoftext|>Today I was walking home, when suddenly<|endoftext|><|endoftext|><|endoftext|><|endoftext|><|endoftext|>'"
            ],
            "application/vnd.google.colaboratory.intrinsic+json": {
              "type": "string"
            }
          },
          "metadata": {},
          "execution_count": 66
        }
      ]
    },
    {
      "cell_type": "code",
      "source": [
        "gpt2_tokenizer(\" \")"
      ],
      "metadata": {
        "colab": {
          "base_uri": "https://localhost:8080/"
        },
        "id": "OMPYJZO4OiCR",
        "outputId": "ec281050-5d76-40c7-8b1a-9c9453036c58"
      },
      "execution_count": 67,
      "outputs": [
        {
          "output_type": "execute_result",
          "data": {
            "text/plain": [
              "{'input_ids': [220], 'attention_mask': [1]}"
            ]
          },
          "metadata": {},
          "execution_count": 67
        }
      ]
    },
    {
      "cell_type": "markdown",
      "source": [
        "# Config"
      ],
      "metadata": {
        "id": "H416tK0Oh9Ms"
      }
    },
    {
      "cell_type": "code",
      "source": [
        "@dataclass\n",
        "class Config:\n",
        "    #classical params\n",
        "    d_model: int = 768 #embedding size\n",
        "    layer_norm_eps: float = 1e-5\n",
        "    d_vocab: int = 50257\n",
        "    init_range: float = 0.02\n",
        "    n_ctx: int = 1024 #context length\n",
        "    n_heads: int = 12 #number of attention heads\n",
        "    n_layers: int = 12 #number of transformer blocks\n",
        "    dropout: float = 0.1\n",
        "    tying = False\n",
        "    #quantum params\n",
        "    query_depth: int = 1\n",
        "    key_depth: int = 2\n",
        "    value_depth: int = 3\n",
        "    q_device: str = \"lightning.qubit\"\n",
        "\n",
        "qgpt_cfg = Config()"
      ],
      "metadata": {
        "id": "3U4O5UAfh_H4"
      },
      "execution_count": 68,
      "outputs": []
    },
    {
      "cell_type": "markdown",
      "source": [
        "# Embedding, MLP, Unembedding"
      ],
      "metadata": {
        "id": "9eATEdf0P6Vg"
      }
    },
    {
      "cell_type": "code",
      "source": [
        "class Embed(torch.nn.Module):\n",
        "    def __init__(self, cfg):\n",
        "        super().__init__()\n",
        "\n",
        "        self.cfg = cfg\n",
        "        self.wte = nn.Parameter(torch.empty((cfg.d_vocab, cfg.d_model)))\n",
        "        self.wpe = nn.Parameter(torch.empty((cfg.n_ctx, cfg.d_model)))\n",
        "\n",
        "        nn.init.normal_(self.wte, std=self.cfg.init_range)\n",
        "        nn.init.normal_(self.wpe, std=self.cfg.init_range)\n",
        "\n",
        "    def forward(self, tokens):\n",
        "\n",
        "        tok_emb = self.wte[tokens]\n",
        "        pos_emb = self.wpe[torch.arange(tokens.shape[1])]\n",
        "        embeddings = tok_emb + pos_emb\n",
        "        return embeddings"
      ],
      "metadata": {
        "id": "WD2zhUlUQeHu"
      },
      "execution_count": 69,
      "outputs": []
    },
    {
      "cell_type": "code",
      "source": [
        "class MLP(nn.Module):\n",
        "\n",
        "    def __init__(self, cfg):\n",
        "        super().__init__()\n",
        "        self.w_in = nn.Linear(cfg.d_model, 4 * cfg.d_model)\n",
        "        self.gelu = nn.GELU()\n",
        "        self.w_out = nn.Linear(4 * cfg.d_model, cfg.d_model)\n",
        "        self.dropout = nn.Dropout(cfg.dropout)\n",
        "\n",
        "    def forward(self, x):\n",
        "        x = self.w_in(x)\n",
        "        x = self.gelu(x)\n",
        "        x = self.w_out(x)\n",
        "        x = self.dropout(x)\n",
        "        return x"
      ],
      "metadata": {
        "id": "lEBAnB2QVVLE"
      },
      "execution_count": 70,
      "outputs": []
    },
    {
      "cell_type": "code",
      "source": [
        "class Unembed(nn.Module):\n",
        "\n",
        "    def __init__(self, cfg, tying=None): #tying should be the W_E matrix\n",
        "        super().__init__()\n",
        "\n",
        "        self.unembed = nn.Linear(cfg.d_model, cfg.d_vocab)\n",
        "        if tying: self.unembed.weight = tying\n",
        "\n",
        "    def forward(self, x):\n",
        "\n",
        "        return self.unembed(x)\n"
      ],
      "metadata": {
        "id": "SR_TS6R4XBzd"
      },
      "execution_count": 71,
      "outputs": []
    },
    {
      "cell_type": "markdown",
      "source": [
        "# Attention and transformer block"
      ],
      "metadata": {
        "id": "lhG9998lgjL3"
      }
    },
    {
      "cell_type": "code",
      "source": [
        "class QAttention(torch.nn.Module):\n",
        "\n",
        "    def __init__(self, cfg):\n",
        "        super().__init__()\n",
        "\n",
        "        self.cfg = cfg\n",
        "        self.qkv_depth = (cfg.query_depth, cfg.key_depth, cfg.value_depth)\n",
        "        self.n_qubits = int(math.ceil(math.log2(cfg.d_model)))\n",
        "        self.device = cfg.q_device\n",
        "\n",
        "        # init device\n",
        "        self.dev = qml.device(self.device, shots=None, wires=self.n_qubits)\n",
        "\n",
        "        # init weights\n",
        "        #context size equals to the number of parallel quantum circuits we need\n",
        "        #self.embedding_circuit = torch.nn.Parameter(torch.empty(self.qkv_depth[0], self.n_qubits))\n",
        "        self.query_weights = nn.Parameter(torch.empty(self.qkv_depth[0], self.n_qubits))\n",
        "        self.key_weights = nn.Parameter(torch.empty(self.qkv_depth[1], self.n_qubits))\n",
        "        self.value_weights = nn.Parameter(torch.empty(self.qkv_depth[2], self.n_qubits))\n",
        "        #output projection is kept classical\n",
        "        self.W_O = nn.Linear(self.n_qubits, cfg.d_model)\n",
        "\n",
        "        self.reset_weights()\n",
        "\n",
        "        # init QNode\n",
        "        self.query_node = qml.QNode(self.queryCircuit, self.dev, interface=\"torch\", diff_method=\"best\")\n",
        "        self.key_node = qml.QNode(self.keyCircuit, self.dev, interface=\"torch\", diff_method=\"best\")\n",
        "        self.value_node = qml.QNode(self.valueCircuit, self.dev, interface=\"torch\", diff_method=\"best\")\n",
        "\n",
        "    def queryCircuit(self, inputs, weights, depth):\n",
        "\n",
        "        #quantum embedding\n",
        "        inputs = inputs.detach() #amplitude embediding does not support differentiable tensors\n",
        "        qml.AmplitudeEmbedding(inputs, range(self.n_qubits), normalize=True, pad_with=0)\n",
        "\n",
        "\n",
        "        #VQC\n",
        "        for j in range(depth):\n",
        "            for i in range(self.n_qubits):\n",
        "                qml.RY(weights[j, i], wires=[i])\n",
        "\n",
        "            for i in range(self.n_qubits):\n",
        "                qml.CNOT(wires=[i % self.n_qubits, (i + 1) % self.n_qubits])\n",
        "\n",
        "        return [qml.expval(qml.PauliZ(wires=[i])) for i in range(self.n_qubits)]\n",
        "\n",
        "    def keyCircuit(self, inputs, weights, depth):\n",
        "        return self.queryCircuit(inputs, weights, depth)\n",
        "\n",
        "    def valueCircuit(self, inputs, weights, depth):\n",
        "        return self.queryCircuit(inputs, weights, depth)\n",
        "\n",
        "    def forward(self, x):\n",
        "\n",
        "        #x = (B, seq_len, emb_len)\n",
        "        #flatten all batches into one sequence x = (B*seq_len, emb_len) for q_node\n",
        "        B, T = x.shape[:2] #save the batch size and sequence length for unflattening\n",
        "\n",
        "        x = torch.flatten(x, start_dim=0, end_dim=1)\n",
        "        q = self.query_node(x, self.query_weights, self.qkv_depth[0])\n",
        "        q = torch.stack(q, dim=-1) # q = (B*seq_len, n_qubit)\n",
        "        q = torch.unflatten(q, 0, (B, T)) #q = (B, seq_len, n_qubit)\n",
        "        q = torch.unsqueeze(q, 1) #torch attention expects size[1] to be number of heads, in our case it is always one\n",
        "\n",
        "        #same with key and value\n",
        "        k = self.key_node(x, self.key_weights, self.qkv_depth[1])\n",
        "        k = torch.stack(k, dim=-1)\n",
        "        k = torch.unflatten(k, 0, (B, T))\n",
        "        k = torch.unsqueeze(k, 1)\n",
        "\n",
        "        v = self.value_node(x, self.value_weights, self.qkv_depth[2])\n",
        "        v = torch.stack(v, dim=-1)\n",
        "        v = torch.unflatten(v, 0, (B, T))\n",
        "        v = torch.unsqueeze(v, 1)\n",
        "        #print(\"Query, Key, Value shapes:\")\n",
        "        #print(q.shape, k.shape, v.shape)\n",
        "\n",
        "        #attention\n",
        "        att = torch.nn.functional.scaled_dot_product_attention(q, k, v, is_causal=True)\n",
        "        att = torch.squeeze(att) #remove the useless nhead dimension\n",
        "        x = torch.unflatten(x, 0, (B, T))\n",
        "        #print(\"Attention shape:\")\n",
        "        #print(att.shape)\n",
        "\n",
        "        x = self.W_O(att)\n",
        "        #print(\"Residual shape:\")\n",
        "        #print(x.shape)\n",
        "\n",
        "        return x\n",
        "\n",
        "    def extra_repr(self):\n",
        "        pass\n",
        "\n",
        "    def reset_weights(self):\n",
        "\n",
        "        nn.init.uniform_(self.query_weights, a=0, b=2 * torch.pi)\n",
        "        nn.init.uniform_(self.key_weights, a=0, b=2 * torch.pi)\n",
        "        nn.init.uniform_(self.value_weights, a=0, b=2 * torch.pi)\n",
        "\n",
        "    def draw_circuit(self):\n",
        "        sample_input = torch.randn((self.cfg.d_model,))\n",
        "\n",
        "        query_drawer = qml.draw(self.query_node)\n",
        "        query_diagram = query_drawer(sample_input, self.query_weights, self.qkv_depth[0])\n",
        "\n",
        "        key_drawer = qml.draw(self.key_node)\n",
        "        key_diagram = key_drawer(sample_input, self.key_weights, self.qkv_depth[1])\n",
        "\n",
        "        value_drawer = qml.draw(self.value_node)\n",
        "        value_diagram = value_drawer(sample_input, self.value_weights, self.qkv_depth[2])\n",
        "\n",
        "\n",
        "        print(\"Query circuit:\")\n",
        "        print(query_diagram)\n",
        "        print(\"Key circuit:\")\n",
        "        print(key_diagram)\n",
        "        print(\"Value circuit:\")\n",
        "        print(value_diagram)\n",
        "\n",
        "\n",
        "    def draw_circuit_mpl(self):\n",
        "        # Generate a sample input and weights for visualization\n",
        "        sample_input = torch.randn((self.n_qubits,))\n",
        "\n",
        "        # Use qml.draw_mpl to plot the circuit\n",
        "        qml.draw_mpl(self.query_node)(sample_input, self.weights[0])\n",
        "        plt.title(\"Quantum Circuit\")\n",
        "        plt.show()"
      ],
      "metadata": {
        "id": "D3-CU0x8gnI_"
      },
      "execution_count": 72,
      "outputs": []
    },
    {
      "cell_type": "code",
      "source": [
        "class TransformerBlock(torch.nn.Module):\n",
        "\n",
        "    def __init__(self, cfg):\n",
        "        super().__init__()\n",
        "\n",
        "        self.cfg = cfg\n",
        "        self.ln1 = nn.LayerNorm(cfg.d_model, eps=cfg.layer_norm_eps)\n",
        "        self.ln2 = nn.LayerNorm(cfg.d_model, eps=cfg.layer_norm_eps)\n",
        "        self.attn = QAttention(cfg)\n",
        "        self.mlp = MLP(cfg)\n",
        "\n",
        "    def forward(self, x):\n",
        "\n",
        "        x = x + self.attn(self.ln1(x))\n",
        "        x = x + self.mlp(self.ln2(x))\n",
        "        return x"
      ],
      "metadata": {
        "id": "3_yfxgvtY9m-"
      },
      "execution_count": 73,
      "outputs": []
    },
    {
      "cell_type": "markdown",
      "source": [
        "# Utils"
      ],
      "metadata": {
        "id": "yhalcljNV98n"
      }
    },
    {
      "cell_type": "code",
      "source": [
        "def freeze_and_load(model, reference_model, n_unfreeze=0): #load mlp and ln weights and freeze them except last n blocks\n",
        "\n",
        "    with torch.no_grad():\n",
        "\n",
        "      #wte and wpe matrices\n",
        "      model.embed.wte.copy_(reference_model.state_dict()['embed.W_E'])\n",
        "      model.embed.wpe.copy_(reference_model.state_dict()['pos_embed.W_pos'])\n",
        "      model.embed.wte.requires_grad_(False)\n",
        "      model.embed.wpe.requires_grad_(False)\n",
        "\n",
        "      #unembedding matrix\n",
        "      model.unembed.unembed.weight.copy_(reference_model.state_dict()['unembed.W_U'].T) #for some strange reason pretrained W_U is transposed\n",
        "      #print(model.unembed.unembed.bias.shape, reference_model.state_dict()['unembed.b_U'].shape)\n",
        "      model.unembed.unembed.bias.copy_(reference_model.state_dict()['unembed.b_U'])\n",
        "      model.unembed.unembed.requires_grad_(False)\n",
        "\n",
        "      #final LayerNorm\n",
        "      model.ln_final.weight.copy_(reference_model.state_dict()['ln_final.w'])\n",
        "      model.ln_final.bias.copy_(reference_model.state_dict()['ln_final.b'])\n",
        "      model.ln_final.requires_grad_(False)\n",
        "\n",
        "      for (n, block) in enumerate(model.blocks):\n",
        "\n",
        "        #LayerNorms\n",
        "        block.ln1.weight.copy_(reference_model.state_dict()['blocks.'+str(n)+'.ln1.w'])\n",
        "        block.ln1.bias.copy_(reference_model.state_dict()['blocks.'+str(n)+'.ln1.b'])\n",
        "        block.ln2.weight.copy_(reference_model.state_dict()['blocks.'+str(n)+'.ln2.w'])\n",
        "        block.ln2.bias.copy_(reference_model.state_dict()['blocks.'+str(n)+'.ln2.b'])\n",
        "        #MLP (the pretrained weights are transposed)\n",
        "        block.mlp.w_in.weight.copy_(reference_model.state_dict()['blocks.'+str(n)+'.mlp.W_in'].T)\n",
        "        block.mlp.w_in.bias.copy_(reference_model.state_dict()['blocks.'+str(n)+'.mlp.b_in'])\n",
        "        block.mlp.w_out.weight.copy_(reference_model.state_dict()['blocks.'+str(n)+'.mlp.W_out'].T)\n",
        "        block.mlp.w_out.bias.copy_(reference_model.state_dict()['blocks.'+str(n)+'.mlp.b_out'])\n",
        "        #freeze weights\n",
        "        if n in range(model.cfg.n_layers-n_unfreeze):\n",
        "          #print(\"weights in block \"+str(n)+\" frozen\")\n",
        "          block.ln1.requires_grad_(False)\n",
        "          block.ln2.requires_grad_(False)\n",
        "          block.mlp.w_in.requires_grad_(False)\n",
        "          block.mlp.w_out.requires_grad_(False)\n"
      ],
      "metadata": {
        "id": "Y41-LsvP7nCY"
      },
      "execution_count": 74,
      "outputs": []
    },
    {
      "cell_type": "markdown",
      "source": [
        "# Full Transformer"
      ],
      "metadata": {
        "id": "eADST_JpPDiP"
      }
    },
    {
      "cell_type": "code",
      "source": [
        "class QGPT(nn.Module):\n",
        "    def __init__(self, cfg: Config):\n",
        "        super().__init__()\n",
        "        self.cfg = cfg\n",
        "        self.embed = Embed(cfg)\n",
        "        self.blocks = nn.ModuleList([TransformerBlock(cfg) for _ in range(cfg.n_layers)])\n",
        "        self.ln_final = nn.LayerNorm(cfg.d_model, eps=cfg.layer_norm_eps)\n",
        "        self.unembed = Unembed(cfg)\n",
        "\n",
        "    def forward(self, tokens):\n",
        "\n",
        "        residual = self.embed(tokens)\n",
        "        for block in self.blocks:\n",
        "            residual = block(residual)\n",
        "        logits = self.unembed(self.ln_final(residual))\n",
        "        return logits"
      ],
      "metadata": {
        "id": "bs8rBEGwvsCj"
      },
      "execution_count": 75,
      "outputs": []
    },
    {
      "cell_type": "code",
      "source": [
        "qgpt = QGPT(qgpt_cfg)"
      ],
      "metadata": {
        "id": "TdMTjOwV3-XA"
      },
      "execution_count": 76,
      "outputs": []
    },
    {
      "cell_type": "code",
      "source": [
        "params = sum(p.numel() for p in qgpt.parameters() if p.requires_grad)\n",
        "print(f'Number of trainable parameters: {params}')"
      ],
      "metadata": {
        "colab": {
          "base_uri": "https://localhost:8080/"
        },
        "id": "qrtDfXfvqub5",
        "outputId": "28874d8c-cb17-4ee3-c888-1536b09c9099"
      },
      "execution_count": 77,
      "outputs": [
        {
          "output_type": "stream",
          "name": "stdout",
          "text": [
            "Number of trainable parameters: 134841121\n"
          ]
        }
      ]
    },
    {
      "cell_type": "code",
      "source": [
        "freeze_and_load(qgpt, reference_gpt2)"
      ],
      "metadata": {
        "id": "CUg4ygYkebLL"
      },
      "execution_count": 78,
      "outputs": []
    },
    {
      "cell_type": "code",
      "source": [
        "params = sum(p.numel() for p in qgpt.parameters() if p.requires_grad)\n",
        "print(f'Number of trainable parameters: {params}')"
      ],
      "metadata": {
        "colab": {
          "base_uri": "https://localhost:8080/"
        },
        "id": "QCrbQ-fDqzmo",
        "outputId": "df1aa062-9c88-496e-cade-560f89edacda"
      },
      "execution_count": 79,
      "outputs": [
        {
          "output_type": "stream",
          "name": "stdout",
          "text": [
            "Number of trainable parameters: 102096\n"
          ]
        }
      ]
    },
    {
      "cell_type": "code",
      "source": [
        "qgpt.to(device)"
      ],
      "metadata": {
        "colab": {
          "base_uri": "https://localhost:8080/"
        },
        "id": "wLPmmPJGz7Qi",
        "outputId": "3679e0a8-eb32-4c93-e942-54610aa0f168"
      },
      "execution_count": 80,
      "outputs": [
        {
          "output_type": "execute_result",
          "data": {
            "text/plain": [
              "QGPT(\n",
              "  (embed): Embed()\n",
              "  (blocks): ModuleList(\n",
              "    (0-11): 12 x TransformerBlock(\n",
              "      (ln1): LayerNorm((768,), eps=1e-05, elementwise_affine=True)\n",
              "      (ln2): LayerNorm((768,), eps=1e-05, elementwise_affine=True)\n",
              "      (attn): QAttention(\n",
              "        (W_O): Linear(in_features=10, out_features=768, bias=True)\n",
              "      )\n",
              "      (mlp): MLP(\n",
              "        (w_in): Linear(in_features=768, out_features=3072, bias=True)\n",
              "        (gelu): GELU(approximate='none')\n",
              "        (w_out): Linear(in_features=3072, out_features=768, bias=True)\n",
              "        (dropout): Dropout(p=0.1, inplace=False)\n",
              "      )\n",
              "    )\n",
              "  )\n",
              "  (ln_final): LayerNorm((768,), eps=1e-05, elementwise_affine=True)\n",
              "  (unembed): Unembed(\n",
              "    (unembed): Linear(in_features=768, out_features=50257, bias=True)\n",
              "  )\n",
              ")"
            ]
          },
          "metadata": {},
          "execution_count": 80
        }
      ]
    },
    {
      "cell_type": "code",
      "source": [
        "qgpt(text_tokens).shape"
      ],
      "metadata": {
        "id": "aR2DR25Lo5qY",
        "colab": {
          "base_uri": "https://localhost:8080/"
        },
        "outputId": "dffc2b9b-9cd4-4406-c199-4bc55754c8a7"
      },
      "execution_count": 81,
      "outputs": [
        {
          "output_type": "execute_result",
          "data": {
            "text/plain": [
              "torch.Size([2, 14, 50257])"
            ]
          },
          "metadata": {},
          "execution_count": 81
        }
      ]
    },
    {
      "cell_type": "markdown",
      "source": [
        "# Data"
      ],
      "metadata": {
        "id": "JOiAnXX49j9d"
      }
    },
    {
      "cell_type": "code",
      "source": [
        "dataset = load_dataset(\"NeelNanda/pile-10k\", split=\"train\").remove_columns(\"meta\")"
      ],
      "metadata": {
        "colab": {
          "base_uri": "https://localhost:8080/",
          "height": 145,
          "referenced_widgets": [
            "307ce54f91514a93a887e7a24a6f1045",
            "2dc89e0fb93240638d6954c07e2121e1",
            "5038926bac40436eb48d099b3dbd5125",
            "7172c022ca3e4cfc8528d3bf3dc0ae9a",
            "d5ef620730cf488ea338716b2b82bb9d",
            "7a6114647f10408ca238d82cbf4d242d",
            "eb87aca996a24242b769ad3c5371e13e",
            "8f260ae6dec7408198516538e7acc91e",
            "6bf1020f774c438eb2a3c098621af4a1",
            "2f74d4937fc14086915dd3ef75c95824",
            "31723a0711a448c3b06b92e84fd3c0fa",
            "3aceea12ae9c45dcb1fce9d181e2dc23",
            "9c94c325066841afb3170216007ee4ff",
            "bf1d194c915c40ef912c041bc4805fc1",
            "ac1394fa1343469799af3c3397337c77",
            "4b93553cbcc24d61be75b622571226ed",
            "d523e0412f844598964804ef7418e27e",
            "9fd2a7d314fd4ca49e1e1c2277324f8f",
            "7c3e17b3ca8944fabc204b8cd9f6e16b",
            "40cfb77f9aeb471c822205354d9e3e45",
            "4f988dd781e740e09399d005ec5b2cf9",
            "6a3b8e2c2b72400ba52b23dc77b73e39",
            "87838d03eeab4e6ba0dcec4f78d0d86c",
            "07bcf47c38c447c3b0065e90ca2befbc",
            "84925d1d50254f978e591c8941c2500b",
            "a9714872fabc4796a8c9185259094341",
            "bb84b36b06d14074863457494c7af481",
            "535e2d8ed3df4f7c875b915a1373533c",
            "14cc537383774d009e6bfc05a3fb0436",
            "25971a8ab62a4d4eb3e4b29d4be44af2",
            "291c6c3c048443bd92b440feb8682742",
            "cd8cfd6c5bc3442daf2a44da246f5d29",
            "ddb1cfcd23074728a8a940c29297bad0",
            "d503fb330b534dc18e5e1ce416cb1088",
            "ddf550ab44d8458f9edc91c688ade033",
            "8f86c0465b0e4d74a90e528410b8677b",
            "8a289786d075425fa000052edd519854",
            "c234cc1e3fc9456ca4861e8a180f58b2",
            "60738de59a9f4f2e940b598f6e48f069",
            "10cd6f9a60984e468a2f7722205477fa",
            "55b0a51944f34139886d43712828b5d2",
            "50ad5087051a4ba98cd9e71ed88237a1",
            "72602a90f4b743f4aa5af9fb778e2a8d",
            "2171eb6c565b45d283e0d4d2eb2a2c77"
          ]
        },
        "id": "2Qmw_JGl9mmj",
        "outputId": "e2b4904e-11af-43ad-f21f-9b68ab32fb51"
      },
      "execution_count": 82,
      "outputs": [
        {
          "output_type": "display_data",
          "data": {
            "text/plain": [
              "README.md:   0%|          | 0.00/373 [00:00<?, ?B/s]"
            ],
            "application/vnd.jupyter.widget-view+json": {
              "version_major": 2,
              "version_minor": 0,
              "model_id": "307ce54f91514a93a887e7a24a6f1045"
            }
          },
          "metadata": {}
        },
        {
          "output_type": "display_data",
          "data": {
            "text/plain": [
              "dataset_infos.json:   0%|          | 0.00/921 [00:00<?, ?B/s]"
            ],
            "application/vnd.jupyter.widget-view+json": {
              "version_major": 2,
              "version_minor": 0,
              "model_id": "3aceea12ae9c45dcb1fce9d181e2dc23"
            }
          },
          "metadata": {}
        },
        {
          "output_type": "display_data",
          "data": {
            "text/plain": [
              "(…)-00000-of-00001-4746b8785c874cc7.parquet:   0%|          | 0.00/33.3M [00:00<?, ?B/s]"
            ],
            "application/vnd.jupyter.widget-view+json": {
              "version_major": 2,
              "version_minor": 0,
              "model_id": "87838d03eeab4e6ba0dcec4f78d0d86c"
            }
          },
          "metadata": {}
        },
        {
          "output_type": "display_data",
          "data": {
            "text/plain": [
              "Generating train split:   0%|          | 0/10000 [00:00<?, ? examples/s]"
            ],
            "application/vnd.jupyter.widget-view+json": {
              "version_major": 2,
              "version_minor": 0,
              "model_id": "d503fb330b534dc18e5e1ce416cb1088"
            }
          },
          "metadata": {}
        }
      ]
    },
    {
      "cell_type": "code",
      "source": [
        "torch.stack(torch.tensor(gpt2_tokenizer(dataset[0]['text'])['input_ids']).split(1024)[:-1]).shape"
      ],
      "metadata": {
        "colab": {
          "base_uri": "https://localhost:8080/"
        },
        "id": "Uje4fjf79tkq",
        "outputId": "0019de1f-7bdc-48ce-f654-ab48adb93e53"
      },
      "execution_count": 83,
      "outputs": [
        {
          "output_type": "stream",
          "name": "stderr",
          "text": [
            "Token indices sequence length is longer than the specified maximum sequence length for this model (3180 > 1024). Running this sequence through the model will result in indexing errors\n"
          ]
        },
        {
          "output_type": "execute_result",
          "data": {
            "text/plain": [
              "torch.Size([3, 1024])"
            ]
          },
          "metadata": {},
          "execution_count": 83
        }
      ]
    },
    {
      "cell_type": "code",
      "source": [
        "class TextDataset(Dataset):\n",
        "    def __init__(self, text_string, tokenizer, n_ctx):\n",
        "\n",
        "      tokens = tokenizer(text_string)['input_ids']\n",
        "      self.tokens = torch.tensor(tokens)\n",
        "      self.X = torch.stack(torch.split(self.tokens, n_ctx)[:-1])\n",
        "      self.y = torch.stack(torch.split(self.tokens.roll(-1), n_ctx)[:-1])\n",
        "\n",
        "    def __len__(self):\n",
        "        return self.X.shape[0]\n",
        "\n",
        "    def __getitem__(self, index):\n",
        "        return self.X[index], self.y[index]\n"
      ],
      "metadata": {
        "id": "rZwHwodVCdQk"
      },
      "execution_count": 84,
      "outputs": []
    },
    {
      "cell_type": "code",
      "source": [
        "trainDS = TextDataset(dataset[0]['text'], gpt2_tokenizer, qgpt_cfg.n_ctx)\n",
        "trainDL = DataLoader(trainDS, shuffle=True, pin_memory=True, batch_size = 3)"
      ],
      "metadata": {
        "id": "Y8j5S8DfQ_XH"
      },
      "execution_count": 87,
      "outputs": []
    },
    {
      "cell_type": "code",
      "source": [
        "X, y = trainDS[0]\n",
        "X, y"
      ],
      "metadata": {
        "colab": {
          "base_uri": "https://localhost:8080/"
        },
        "id": "yFQkjn9PSC_O",
        "outputId": "7173f7a5-eb67-4b6d-8be3-0b1e48a88f60"
      },
      "execution_count": 88,
      "outputs": [
        {
          "output_type": "execute_result",
          "data": {
            "text/plain": [
              "(tensor([1026,  318, 1760,  ..., 1088,  838, 4201]),\n",
              " tensor([ 318, 1760,   11,  ...,  838, 4201,  329]))"
            ]
          },
          "metadata": {},
          "execution_count": 88
        }
      ]
    },
    {
      "cell_type": "code",
      "source": [
        "for b in trainDL:\n",
        "  print(b)"
      ],
      "metadata": {
        "colab": {
          "base_uri": "https://localhost:8080/"
        },
        "id": "1c7k39JkTt7B",
        "outputId": "77d1902c-6d01-4267-9135-96543ef27def"
      },
      "execution_count": 89,
      "outputs": [
        {
          "output_type": "stream",
          "name": "stdout",
          "text": [
            "[tensor([[1180, 2628,   11,  ...,  284,  564,  250],\n",
            "        [1026,  318, 1760,  ..., 1088,  838, 4201],\n",
            "        [ 329,  257, 7480,  ..., 6626,  656, 1811]]), tensor([[2628,   11,  422,  ...,  564,  250,  447],\n",
            "        [ 318, 1760,   11,  ...,  838, 4201,  329],\n",
            "        [ 257, 7480,  284,  ...,  656, 1811, 1180]])]\n"
          ]
        }
      ]
    },
    {
      "cell_type": "markdown",
      "source": [
        "# Train"
      ],
      "metadata": {
        "id": "yPxniAOvrWjU"
      }
    },
    {
      "cell_type": "code",
      "source": [
        "@dataclass\n",
        "class TrainingArgs:\n",
        "    epochs: int = 10\n",
        "    max_steps_per_epoch: int = 100\n",
        "    lr: int = 0.01\n",
        "    weight_decay: int = 0.01\n",
        "    betas: tuple = (0.9, 0.99)\n",
        "\n",
        "qgpt_training_args = TrainingArgs()"
      ],
      "metadata": {
        "id": "sfJ0Tnpd5WoO"
      },
      "execution_count": 90,
      "outputs": []
    },
    {
      "cell_type": "code",
      "source": [
        "class TransformerTrainer:\n",
        "    def __init__(self, args, model, train_loader):\n",
        "        super().__init__()\n",
        "        self.model = model\n",
        "        self.args = args\n",
        "        self.optimizer = optim.AdamW(self.model.parameters(), lr=args.lr, betas=args.betas, weight_decay=args.weight_decay)\n",
        "        self.step = 0\n",
        "        self.train_loader = train_loader\n",
        "\n",
        "\n",
        "    def training_step(self, batch):\n",
        "\n",
        "        #forward pass\n",
        "        tokens, targets = batch\n",
        "        tokens = tokens.to(device)\n",
        "        targets = targets.to(device)\n",
        "        logits = self.model(tokens)\n",
        "\n",
        "        #backward pass\n",
        "        self.optimizer.zero_grad()\n",
        "        loss = nn.functional.cross_entropy(logits.view(-1, logits.size(-1)), targets.view(-1), ignore_index=-1)\n",
        "        loss.backward()\n",
        "        self.optimizer.step()\n",
        "        self.step += 1\n",
        "\n",
        "        return loss\n",
        "\n",
        "\n",
        "    def validation_step(self, batch):\n",
        "\n",
        "        tokens = batch[0].to(device)\n",
        "        logits = self.model(tokens)[:, :-1]\n",
        "        predicted_tokens = logits.argmax(dim=-1)\n",
        "        correct_predictions = (predicted_tokens == tokens[:, 1:]).flatten()\n",
        "        return correct_predictions\n",
        "\n",
        "\n",
        "    def train(self):\n",
        "\n",
        "        accuracy = np.nan\n",
        "\n",
        "        progress_bar = tqdm(total = self.args.max_steps_per_epoch * self.args.epochs)\n",
        "\n",
        "        for epoch in range(self.args.epochs):\n",
        "            for i, batch in enumerate(self.train_loader):\n",
        "                loss = self.training_step(batch)\n",
        "                progress_bar.update()\n",
        "                progress_bar.set_description(f\"Epoch {epoch+1}, loss: {loss:.3f}, accuracy: {accuracy:.2f}\")\n",
        "                if i >= self.args.max_steps_per_epoch:\n",
        "                    break\n",
        "\n",
        "            correct_predictions = torch.concat([self.validation_step(batch) for batch in self.test_loader()])\n",
        "            accuracy = correct_predictions.float().mean().item()\n"
      ],
      "metadata": {
        "id": "1Yja8CFsrYRs"
      },
      "execution_count": 93,
      "outputs": []
    },
    {
      "cell_type": "code",
      "source": [
        "qgpt_trainer = TransformerTrainer(qgpt_training_args, qgpt, trainDL)\n",
        "qgpt_trainer.train()"
      ],
      "metadata": {
        "colab": {
          "base_uri": "https://localhost:8080/",
          "height": 49,
          "referenced_widgets": [
            "5b0bb1f3984b4db4a7245fe1d874f674",
            "b93c1323d3dd4e0babe8fac9df428dc1",
            "71fa0fb00da04483ab2a7f2cf5adc2ed",
            "384ee5e64a5e4b6ab898b081616d82ad",
            "1d2e62c61168428fb0b80e7a19e7cc1e",
            "1bea68566c6b40adace42dec933fb576",
            "54103d74255947698495f346c737ec7c",
            "a84f26024b00485387ef531b644c5701",
            "db47ae23ea6641ddb6cab486d685f7e4",
            "3dad6777f1034683830971f909d19fe9",
            "1770875231eb4ccab3797fbc734ba2fc"
          ]
        },
        "id": "bHmEfC3H0h3A",
        "outputId": "f113acfd-470e-47f2-fe31-a53989a188e6"
      },
      "execution_count": null,
      "outputs": [
        {
          "output_type": "display_data",
          "data": {
            "text/plain": [
              "  0%|          | 0/1000 [00:00<?, ?it/s]"
            ],
            "application/vnd.jupyter.widget-view+json": {
              "version_major": 2,
              "version_minor": 0,
              "model_id": "5b0bb1f3984b4db4a7245fe1d874f674"
            }
          },
          "metadata": {}
        }
      ]
    },
    {
      "cell_type": "markdown",
      "source": [
        "# Inference"
      ],
      "metadata": {
        "id": "F5md_-gpd-vy"
      }
    },
    {
      "cell_type": "code",
      "source": [
        "class Sampler:\n",
        "\n",
        "    def __init__(self, cfg, model, tokenizer):\n",
        "\n",
        "      self.cfg = cfg\n",
        "      self.model = model\n",
        "      self.tokenizer = tokenizer\n",
        "\n",
        "    @torch.inference_mode()\n",
        "    def generate(self, tokens, n_new_tokens, temperature=1.0, top_k=None):\n",
        "\n",
        "        for _ in range(n_new_tokens):\n",
        "            #crop sequence at context size if required\n",
        "            cropped_tokens = tokens if tokens.size(1) <= self.cfg.n_ctx else tokens[:, -self.cfg.n_ctx:]\n",
        "            #forward the model\n",
        "            logits = self.model(cropped_tokens)\n",
        "            #get the last logit and scale it by desired temperature\n",
        "            logits = logits[:, -1, :] / temperature\n",
        "            #apply top k\n",
        "            if top_k is not None:\n",
        "                v, _ = torch.topk(logits, min(top_k, logits.size(-1)))\n",
        "                logits[logits < v[:, [-1]]] = -float('Inf')\n",
        "            #softmax\n",
        "            probs = nn.functional.softmax(logits, dim=-1)\n",
        "            #sample nect tokens\n",
        "            next_token = torch.multinomial(probs, num_samples=1)\n",
        "            #add the sample token to the sequence\n",
        "            tokens = torch.cat((tokens, next_token), dim=1)\n",
        "\n",
        "        return tokens\n",
        "\n",
        "    def sample(self, tokens, n_new_tokens, temperature=1, top_k=None):\n",
        "\n",
        "        sentences = []\n",
        "        token_sequences = self.generate(tokens, n_new_tokens, temperature, top_k)\n",
        "        for sequence in token_sequences:\n",
        "            sentence = self.tokenizer.decode(sequence)\n",
        "            sentences.append(sentence)\n",
        "\n",
        "        return sentences"
      ],
      "metadata": {
        "id": "IUYV21O3WHTc"
      },
      "execution_count": null,
      "outputs": []
    },
    {
      "cell_type": "code",
      "source": [
        "qgpt_sampler = Sampler(qgpt_cfg, qgpt, gpt2_tokenizer)"
      ],
      "metadata": {
        "id": "ijByXuB3eAoG"
      },
      "execution_count": null,
      "outputs": []
    },
    {
      "cell_type": "code",
      "source": [
        "qgpt_sampler.sample(text_tokens, 10, temperature=0.5)"
      ],
      "metadata": {
        "id": "gaYNeJDyeXva"
      },
      "execution_count": null,
      "outputs": []
    },
    {
      "cell_type": "code",
      "source": [
        "gpt2_sampler = Sampler(qgpt_cfg, reference_gpt2, gpt2_tokenizer)"
      ],
      "metadata": {
        "id": "xsyRLOs3j0ur"
      },
      "execution_count": null,
      "outputs": []
    },
    {
      "cell_type": "code",
      "source": [
        "qgpt_sampler.sample(text_tokens, 10, temperature=0.5)"
      ],
      "metadata": {
        "id": "O-I7sVqOkJb8"
      },
      "execution_count": null,
      "outputs": []
    }
  ]
}